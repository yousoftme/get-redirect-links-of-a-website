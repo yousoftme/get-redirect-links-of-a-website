{
 "cells": [
  {
   "cell_type": "code",
   "execution_count": 1,
   "metadata": {},
   "outputs": [],
   "source": [
    "import requests\n",
    "from bs4 import BeautifulSoup\n",
    "import html5lib"
   ]
  },
  {
   "cell_type": "code",
   "execution_count": 2,
   "metadata": {},
   "outputs": [],
   "source": [
    "url = 'https://penandweb.com/'"
   ]
  },
  {
   "cell_type": "code",
   "execution_count": 3,
   "metadata": {},
   "outputs": [],
   "source": [
    "response = requests.get(url)"
   ]
  },
  {
   "cell_type": "code",
   "execution_count": 4,
   "metadata": {},
   "outputs": [],
   "source": [
    "soup = BeautifulSoup(response.content, 'html5lib')"
   ]
  },
  {
   "cell_type": "markdown",
   "metadata": {},
   "source": [
    "### print all links except with value \"#\""
   ]
  },
  {
   "cell_type": "code",
   "execution_count": 6,
   "metadata": {},
   "outputs": [
    {
     "name": "stdout",
     "output_type": "stream",
     "text": [
      "https://penandweb.com/\n",
      "https://penandweb.com/\n",
      "https://penandweb.com/about-us/\n",
      "https://penandweb.com/services/\n",
      "https://penandweb.com/limo-seo-boosts-you-to-the-top-of-the-search-engines/\n",
      "https://penandweb.com/our-taxi-website-designs-are-always-the-benchmark/\n",
      "https://penandweb.com/taxi-seo-services-that-takes-you-straight-to-the-top/\n",
      "https://penandweb.com/top-ranking-transportation-web-design-service/\n",
      "https://penandweb.com/dynamic-and-affordable-car-service-website-design-services/\n",
      "https://penandweb.com/grand-limo-web-design-for-your-grand-limo-business/\n",
      "https://penandweb.com/limousine-website-design-trend-and-affordability-altogether/\n",
      "https://penandweb.com/limo-app-iphone-and-android-app-design-and-development/\n",
      "https://penandweb.com/boost-your-business-with-taxi-mobile-website/\n",
      "https://penandweb.com/car-sales-website-design-we-always-do-give-the-best/\n",
      "https://penandweb.com/auto-dealer-web-design-taking-your-business-to-next-level/\n",
      "https://penandweb.com/lay-your-hands-on-the-best-taxi-iphone-app/\n",
      "https://penandweb.com/customized-taxi-app-development-and-design-that-makes-you-an-instant-hit/\n",
      "https://penandweb.com/give-your-clients-ease-of-access-with-pnws-taxi-mobile-apps/\n",
      "https://penandweb.com/limo-website-design-that-takes-you-to-the-top/\n",
      "https://penandweb.com/responsive-web-design/\n",
      "https://penandweb.com/web-marketing-strategy/\n",
      "https://penandweb.com/local-listings-seo/\n",
      "https://penandweb.com/organic-seo-services/\n",
      "https://penandweb.com/branding/\n",
      "https://penandweb.com/copywriting-services/\n",
      "https://penandweb.com/mobile-app-development/\n",
      "https://penandweb.com/ecommerce-web/\n",
      "https://penandweb.com/cms-web-development/\n",
      "https://penandweb.com/print-media-and-identity/\n",
      "https://penandweb.com/online-reputation-management/\n",
      "https://penandweb.com/video-marketing/\n",
      "https://penandweb.com/portfolio/\n",
      "https://penandweb.com/contact-us/\n",
      "https://penandweb.com/\n",
      "https://penandweb.com/about-us/\n",
      "https://penandweb.com/services/\n",
      "https://penandweb.com/limo-seo-boosts-you-to-the-top-of-the-search-engines/\n",
      "https://penandweb.com/our-taxi-website-designs-are-always-the-benchmark/\n",
      "https://penandweb.com/taxi-seo-services-that-takes-you-straight-to-the-top/\n",
      "https://penandweb.com/top-ranking-transportation-web-design-service/\n",
      "https://penandweb.com/dynamic-and-affordable-car-service-website-design-services/\n",
      "https://penandweb.com/grand-limo-web-design-for-your-grand-limo-business/\n",
      "https://penandweb.com/limousine-website-design-trend-and-affordability-altogether/\n",
      "https://penandweb.com/limo-app-iphone-and-android-app-design-and-development/\n",
      "https://penandweb.com/boost-your-business-with-taxi-mobile-website/\n",
      "https://penandweb.com/car-sales-website-design-we-always-do-give-the-best/\n",
      "https://penandweb.com/auto-dealer-web-design-taking-your-business-to-next-level/\n",
      "https://penandweb.com/lay-your-hands-on-the-best-taxi-iphone-app/\n",
      "https://penandweb.com/customized-taxi-app-development-and-design-that-makes-you-an-instant-hit/\n",
      "https://penandweb.com/give-your-clients-ease-of-access-with-pnws-taxi-mobile-apps/\n",
      "https://penandweb.com/limo-website-design-that-takes-you-to-the-top/\n",
      "https://penandweb.com/responsive-web-design/\n",
      "https://penandweb.com/web-marketing-strategy/\n",
      "https://penandweb.com/local-listings-seo/\n",
      "https://penandweb.com/organic-seo-services/\n",
      "https://penandweb.com/branding/\n",
      "https://penandweb.com/copywriting-services/\n",
      "https://penandweb.com/mobile-app-development/\n",
      "https://penandweb.com/ecommerce-web/\n",
      "https://penandweb.com/cms-web-development/\n",
      "https://penandweb.com/print-media-and-identity/\n",
      "https://penandweb.com/online-reputation-management/\n",
      "https://penandweb.com/video-marketing/\n",
      "https://penandweb.com/portfolio/\n",
      "https://penandweb.com/contact-us/\n",
      "https://penandweb.com/portfolio/web-development/\n",
      "https://penandweb.com/portfolio/mobile-app/\n",
      "https://penandweb.com/portfolio/creative-agency/\n",
      "https://penandweb.com/portfolio/trendy-bitcoin/\n",
      "https://penandweb.com/portfolio/greensignal/\n",
      "https://penandweb.com/\n"
     ]
    }
   ],
   "source": [
    "for link in soup.find_all('a'):\n",
    "    if (link.get('href') == '#'):\n",
    "        continue\n",
    "    else:\n",
    "        print(link.get('href'))"
   ]
  }
 ],
 "metadata": {
  "kernelspec": {
   "display_name": "Python 3",
   "language": "python",
   "name": "python3"
  },
  "language_info": {
   "codemirror_mode": {
    "name": "ipython",
    "version": 3
   },
   "file_extension": ".py",
   "mimetype": "text/x-python",
   "name": "python",
   "nbconvert_exporter": "python",
   "pygments_lexer": "ipython3",
   "version": "3.7.4"
  }
 },
 "nbformat": 4,
 "nbformat_minor": 2
}
